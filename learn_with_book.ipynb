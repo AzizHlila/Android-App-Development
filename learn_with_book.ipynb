{
  "nbformat": 4,
  "nbformat_minor": 0,
  "metadata": {
    "colab": {
      "provenance": [],
      "authorship_tag": "ABX9TyOmV7Q+AQT4Z6RHnxWV7bdy",
      "include_colab_link": true
    },
    "kernelspec": {
      "name": "python3",
      "display_name": "Python 3"
    },
    "language_info": {
      "name": "python"
    }
  },
  "cells": [
    {
      "cell_type": "markdown",
      "metadata": {
        "id": "view-in-github",
        "colab_type": "text"
      },
      "source": [
        "<a href=\"https://colab.research.google.com/github/AzizHlila/Android-App-Development/blob/master/learn_with_book.ipynb\" target=\"_parent\"><img src=\"https://colab.research.google.com/assets/colab-badge.svg\" alt=\"Open In Colab\"/></a>"
      ]
    },
    {
      "cell_type": "code",
      "execution_count": null,
      "metadata": {
        "id": "gws2Iq1LTmc_"
      },
      "outputs": [],
      "source": []
    },
    {
      "cell_type": "markdown",
      "source": [
        "# Book :Introduction to machine learning with Python"
      ],
      "metadata": {
        "id": "TaxM0j18VvoC"
      }
    },
    {
      "cell_type": "code",
      "source": [],
      "metadata": {
        "id": "_afGioYjV1G-"
      },
      "execution_count": null,
      "outputs": []
    }
  ]
}